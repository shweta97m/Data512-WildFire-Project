{
 "cells": [
  {
   "cell_type": "markdown",
   "id": "e9888129",
   "metadata": {},
   "source": [
    "# Part 2 - Project Extension | Data Acquistion - Crop Data"
   ]
  },
  {
   "cell_type": "markdown",
   "id": "7990fbf1",
   "metadata": {},
   "source": [
    "In this assignment you are to plan an extension to the analysis that you performed in Course Project - Part 1. The overall result of your extension plan is to help inform the city council, city manager/mayor, and city residents about the potential future impacts of smoke on their community. In Course Project - Part 1 you should have developed an initial prediction model for smoke. You should take that model and modify it to estimate a specific social or economic impact on the city. For example you might choose to focus on:\n",
    "\n",
    "- Health care - Increase, decrease or steady state of hospitalizations, death or other disease.\n",
    "- Economics - production, worker absences, lost sales, etc. for the city's primary industries.\n",
    "- Services - impacts on service industry, restaurants, lodging, impacts on tourism, services that cater to tourism, etc.\n",
    "- Education - impacts on student learning outcomes, days in/out of school, \"smoke days\" vs \"snow days\", etc.\n",
    "- Community differences - differential impact based on demographics, housed vs unhoused, etc."
   ]
  },
  {
   "cell_type": "markdown",
   "id": "38738acf",
   "metadata": {},
   "source": [
    "## Motivation\n",
    "\n",
    "Understanding the economic impact of wildfires on agriculture is paramount owing to its multifaceted implications for both the agricultural sector and the broader community. This analysis is not merely helpful in quantifying the relationship between wildfires and agriculture but also is inclined to provide and assess the damage to the economic stability of communities reliant on agriculture. Wildfires, with their influence, pose a substantial threat to agricultural productivity, soil health, and the livelihoods of farmers, engendering a ripple effect on food security, local economies, and the overall socio-economic fabric. By diving deep to perceive the effect, the analysis seeks to address a pressing concern: how these natural disasters reverberate through the agricultural landscape and the subsequent ramifications for communities reliant on agriculture."
   ]
  },
  {
   "cell_type": "markdown",
   "id": "4b6194a7",
   "metadata": {},
   "source": [
    "## Setup \n",
    "\n",
    "We first set the working dependencies and constants that are required to process.\n",
    "\n",
    "The setup contains the following steps\n",
    "\n",
    "1. Import all relevant packages\n",
    "2. Define all the relevant constants that will be used throughout the script."
   ]
  },
  {
   "cell_type": "code",
   "execution_count": 1,
   "id": "12ef075e",
   "metadata": {},
   "outputs": [],
   "source": [
    "# import the packages\n",
    "# Import the pandas library and alias it as pd\n",
    "import pandas as pd\n",
    "\n",
    "# Import the numpy library and alias it as np\n",
    "import numpy as np\n",
    "\n",
    "# Import the warnings library \n",
    "import warnings\n",
    "\n",
    "# Ignore warnings for this demonstration\n",
    "warnings.filterwarnings(\"ignore\")"
   ]
  },
  {
   "cell_type": "markdown",
   "id": "fc59a580",
   "metadata": {},
   "source": [
    "# Step 1 - Data Acquistion"
   ]
  },
  {
   "cell_type": "markdown",
   "id": "3b3f2282",
   "metadata": {},
   "source": [
    "## Data Description\n",
    "\n",
    "Assigned City - Bismarck, North Dakota [46.825905, -100.778275.]\n",
    "\n",
    "Objective - Analyze wildfire impacts on the city assigned\n",
    "\n",
    "In this step we aquire the data that contains the agricultural data for the state of North Dakota from at least 1963 to 2023. [United States Department of Agriculture](https://www.nass.usda.gov/datasets/) has records of crop grown in the United States from 1919 till 2022. The initial task is to ingest this data and get the data relevant to the assigned city (Bismarck) \n",
    "\n",
    "The data resides in a rar file (https://www.nass.usda.gov/datasets/qs.crops_20231201.txt.gz). The file that contains the data of interest is in qs.crops_20231201.txt after extraction."
   ]
  },
  {
   "cell_type": "markdown",
   "id": "8268517d",
   "metadata": {},
   "source": [
    "## Data Ingestion\n",
    "\n",
    "For data ingestion we will follow the steps mentioned below\n",
    "1. Unzip the source data file after downloading\n",
    "2. Read the .txt file after unzipping and display the first 10000 characters - This will help us to visualize the data and the storage format\n",
    "3. Read the entire .txt file and store the data on a dataframe and specify the separator to be a tab operator.\n",
    "4. Convert the data from a .txt table after ingestion to .csv. This will ensure simplicity in data manipulation and other downstream tasks\n",
    "5. Store the data in the source folder in a compressed format to avoid space mismanagement "
   ]
  },
  {
   "cell_type": "markdown",
   "id": "498fe369",
   "metadata": {},
   "source": [
    "#### Sample Data\n",
    "This code snippet reads the initial 10,000 characters from a file named 'qs.crops_20231201.txt' and prints them or processes them further."
   ]
  },
  {
   "cell_type": "code",
   "execution_count": 3,
   "id": "9dea27e9",
   "metadata": {
    "collapsed": true
   },
   "outputs": [
    {
     "name": "stdout",
     "output_type": "stream",
     "text": [
      "SOURCE_DESC\tSECTOR_DESC\tGROUP_DESC\tCOMMODITY_DESC\tCLASS_DESC\tPRODN_PRACTICE_DESC\tUTIL_PRACTICE_DESC\tSTATISTICCAT_DESC\tUNIT_DESC\tSHORT_DESC\tDOMAIN_DESC\tDOMAINCAT_DESC\tAGG_LEVEL_DESC\tSTATE_ANSI\tSTATE_FIPS_CODE\tSTATE_ALPHA\tSTATE_NAME\tASD_CODE\tASD_DESC\tCOUNTY_ANSI\tCOUNTY_CODE\tCOUNTY_NAME\tREGION_DESC\tZIP_5\tWATERSHED_CODE\tWATERSHED_DESC\tCONGR_DISTRICT_CODE\tCOUNTRY_CODE\tCOUNTRY_NAME\tLOCATION_DESC\tYEAR\tFREQ_DESC\tBEGIN_CODE\tEND_CODE\tREFERENCE_PERIOD_DESC\tWEEK_ENDING\tLOAD_TIME\tVALUE\tCV_%\n",
      "SURVEY\tCROPS\tFIELD CROPS\tSOYBEANS\tALL CLASSES\tALL PRODUCTION PRACTICES\tALL UTILIZATION PRACTICES\tYIELD\tBU / ACRE\tSOYBEANS - YIELD, MEASURED IN BU / ACRE\tTOTAL\tNOT SPECIFIED\tCOUNTY\t26\t26\tMI\tMICHIGAN\t70\tSOUTHWEST\t027\t027\tCASS\t\t\t00000000\t\t\t9000\tUNITED STATES\tMICHIGAN, SOUTHWEST, CASS\t1972\tANNUAL\t00\t00\tYEAR\t\t2012-01-01 00:00:00\t23.1\t\u0000\n",
      "SURVEY\tCROPS\tFIELD CROPS\tSOYBEANS\tALL CLASSES\tALL PRODUCTION PRACTICES\tON FARM\tSTOCKS\tBU\tSOYBEANS, ON FARM - STOCKS, MEASURED IN BU\tTOTAL\tNOT SPECIFIED\tSTATE\t47\t47\tTN\tTENNESSEE\t\t\t\t\t\t\t\t00000000\t\t\t9000\tUNITED STATES\tTENNESSEE\t1965\tPOINT IN TIME\t12\t12\tFIRST OF DEC\t\t2012-01-01 00:00:00\t2,236,000\t\u0000\n",
      "SURVEY\tCROPS\tFIELD CROPS\tSUGARBEETS\tALL CLASSES\tALL PRODUCTION PRACTICES\tALL UTILIZATION PRACTICES\tSUCROSE\tPCT\tSUGARBEETS - SUCROSE, MEASURED IN PCT\tTOTAL\tNOT SPECIFIED\tCOUNTY\t39\t39\tOH\tOHIO\t10\tNORTHWEST\t137\t137\tPUTNAM\t\t\t00000000\t\t\t9000\tUNITED STATES\tOHIO, NORTHWEST, PUTNAM\t1983\tANNUAL\t00\t00\tYEAR\t\t2012-01-01 00:00:00\t16.26\t\u0000\n",
      "SURVEY\tCROPS\tFIELD CROPS\tHAY\tALL CLASSES\tALL PRODUCTION PRACTICES\tALL UTILIZATION PRACTICES\tPRODUCTION\tTONS\tHAY - PRODUCTION, MEASURED IN TONS\tTOTAL\tNOT SPECIFIED\tCOUNTY\t29\t29\tMO\tMISSOURI\t10\tNORTHWEST\t003\t003\tANDREW\t\t\t00000000\t\t\t9000\tUNITED STATES\tMISSOURI, NORTHWEST, ANDREW\t1992\tANNUAL\t00\t00\tYEAR\t\t2012-01-01 00:00:00\t49,500\t\u0000\n",
      "SURVEY\tCROPS\tFIELD CROPS\tCORN\tALL CLASSES\tALL PRODUCTION PRACTICES\tSILAGE\tPRODUCTION\tTONS\tCORN, SILAGE - PRODUCTION, MEASURED IN TONS\tTOTAL\tNOT SPECIFIED\tCOUNTY\t36\t36\tNY\tNEW YORK\t50\tCENTRAL\t023\t023\tCORTLAND\t\t\t00000000\t\t\t9000\tUNITED STATES\tNEW YORK, CENTRAL, CORTLAND\t1991\tANNUAL\t00\t00\tYEAR\t\t2012-01-01 00:00:00\t184,200\t\u0000\n",
      "SURVEY\tCROPS\tFIELD CROPS\tHAY\tALFALFA\tALL PRODUCTION PRACTICES\tALL UTILIZATION PRACTICES\tYIELD\tTONS / ACRE\tHAY, ALFALFA - YIELD, MEASURED IN TONS / ACRE\tTOTAL\tNOT SPECIFIED\tCOUNTY\t31\t31\tNE\tNEBRASKA\t10\tNORTHWEST\t049\t049\tDEUEL\t\t\t00000000\t\t\t9000\tUNITED STATES\tNEBRASKA, NORTHWEST, DEUEL\t1965\tANNUAL\t00\t00\tYEAR\t\t2012-01-01 00:00:00\t2.88\t\u0000\n",
      "SURVEY\tCROPS\tFIELD CROPS\tWHEAT\tWINTER\tNON-IRRIGATED\tALL UTILIZATION PRACTICES\tPRODUCTION\tBU\tWHEAT, WINTER, NON-IRRIGATED - PRODUCTION, MEASURED IN BU\tTOTAL\tNOT SPECIFIED\tCOUNTY\t46\t46\tSD\tSOUTH DAKOTA\t50\tCENTRAL\t017\t017\tBUFFALO\t\t\t00000000\t\t\t9000\tUNITED STATES\tSOUTH DAKOTA, CENTRAL, BUFFALO\t2006\tANNUAL\t00\t00\tYEAR\t\t2012-01-01 00:00:00\t154,000\t\u0000\n",
      "SURVEY\tCROPS\tFIELD CROPS\tSUNFLOWER\tALL CLASSES\tALL PRODUCTION PRACTICES\tALL UTILIZATION PRACTICES\tAREA HARVESTED\tACRES\tSUNFLOWER - ACRES HARVESTED\tTOTAL\tNOT SPECIFIED\tCOUNTY\t38\t38\tND\tNORTH DAKOTA\t50\tCENTRAL\t083\t083\tSHERIDAN\t\t\t00000000\t\t\t9000\tUNITED STATES\tNORTH DAKOTA, CENTRAL, SHERIDAN\t1984\tANNUAL\t00\t00\tYEAR\t\t2012-01-01 00:00:00\t69,000\t\u0000\n",
      "SURVEY\tCROPS\tFIELD CROPS\tHAY\tALFALFA\tALL PRODUCTION PRACTICES\tALL UTILIZATION PRACTICES\tAREA HARVESTED\tACRES\tHAY, ALFALFA - ACRES HARVESTED\tTOTAL\tNOT SPECIFIED\tCOUNTY\t40\t40\tOK\tOKLAHOMA\t60\tSOUTH CENTRAL\t123\t123\tPONTOTOC\t\t\t00000000\t\t\t9000\tUNITED STATES\tOKLAHOMA, SOUTH CENTRAL, PONTOTOC\t1993\tANNUAL\t00\t00\tYEAR\t\t2012-01-01 00:00:00\t2,000\t\u0000\n",
      "SURVEY\tCROPS\tFIELD CROPS\tWHEAT\tALL CLASSES\tNON-IRRIGATED\tALL UTILIZATION PRACTICES\tAREA HARVESTED\tACRES\tWHEAT, NON-IRRIGATED - ACRES HARVESTED\tTOTAL\tNOT SPECIFIED\tAGRICULTURAL DISTRICT\t53\t53\tWA\tWASHINGTON\t90\tSOUTHEAST\t\t\t\t\t\t00000000\t\t\t9000\tUNITED STATES\tWASHINGTON, SOUTHEAST\t1975\tANNUAL\t00\t00\tYEAR\t\t2012-01-01 00:00:00\t951,100\t\u0000\n",
      "SURVEY\tCROPS\tFIELD CROPS\tCORN\tALL CLASSES\tALL PRODUCTION PRACTICES\tGRAIN\tAREA HARVESTED\tACRES\tCORN, GRAIN - ACRES HARVESTED\tTOTAL\tNOT SPECIFIED\tCOUNTY\t28\t28\tMS\tMISSISSIPPI\t90\tSOUTHEAST AND COASTAL\t023\t023\tCLARKE\t\t\t00000000\t\t\t9000\tUNITED STATES\tMISSISSIPPI, SOUTHEAST AND COASTAL, CLARKE\t1954\tANNUAL\t00\t00\tYEAR\t\t2012-01-01 00:00:00\t17,600\t\u0000\n",
      "SURVEY\tCROPS\tFIELD CROPS\tSUNFLOWER\tALL CLASSES\tALL PRODUCTION PRACTICES\tALL UTILIZATION PRACTICES\tAREA PLANTED\tACRES\tSUNFLOWER - ACRES PLANTED\tTOTAL\tNOT SPECIFIED\tCOUNTY\t31\t31\tNE\tNEBRASKA\t10\tNORTHWEST\t123\t123\tMORRILL\t\t\t00000000\t\t\t9000\tUNITED STATES\tNEBRASKA, NORTHWEST, MORRILL\t1993\tANNUAL\t00\t00\tYEAR\t\t2012-01-01 00:00:00\t200\t\u0000\n",
      "SURVEY\tCROPS\tFIELD CROPS\tOATS\tALL CLASSES\tALL PRODUCTION PRACTICES\tALL UTILIZATION PRACTICES\tPRODUCTION\tBU\tOATS - PRODUCTION, MEASURED IN BU\tTOTAL\tNOT SPECIFIED\tCOUNTY\t17\t17\tIL\tILLINOIS\t70\tEAST SOUTHEAST\t049\t049\tEFFINGHAM\t\t\t00000000\t\t\t9000\tUNITED STATES\tILLINOIS, EAST SOUTHEAST, EFFINGHAM\t1965\tANNUAL\t00\t00\tYEAR\t\t2012-01-01 00:00:00\t117,500\t\u0000\n",
      "SURVEY\tCROPS\tFIELD CROPS\tCOTTON\tUPLAND\tALL PRODUCTION PRACTICES\tALL UTILIZATION PRACTICES\tPRODUCTION\t480 LB BALES\tCOTTON, UPLAND - PRODUCTION, MEASURED IN 480 LB BALES\tTOTAL\tNOT SPECIFIED\tCOUNTY\t28\t28\tMS\tMISSISSIPPI\t70\tSOUTHWEST\t085\t085\tLINCOLN\t\t\t00000000\t\t\t9000\tUNITED STATES\tMISSISSIPPI, SOUTHWEST, LINCOLN\t1966\tANNUAL\t00\t00\tYEAR\t\t2012-01-01 00:00:00\t650\t\u0000\n",
      "SURVEY\tCROPS\tFIELD CROPS\tRYE\tALL CLASSES\tALL PRODUCTION PRACTICES\tALL UTILIZATION PRACTICES\tYIELD\tBU / ACRE\tRYE - YIELD, MEASURED IN BU / ACRE\tTOTAL\tNOT SPECIFIED\tSTATE\t06\t06\tCA\tCALIFORNIA\t\t\t\t\t\t\t\t00000000\t\t\t9000\tUNITED STATES\tCALIFORNIA\t1938\tANNUAL\t00\t00\tYEAR\t\t2012-01-01 00:00:00\t14\t\u0000\n",
      "CENSUS\tCROPS\tCROP TOTALS\tCROP TOTALS\tALL CLASSES\tALL PRODUCTION PRACTICES\tALL UTILIZATION PRACTICES\tSALES\tOPERATIONS\tCROP TOTALS - OPERATIONS WITH SALES\tTOTAL\tNOT SPECIFIED\tZIP CODE\t19\t19\tIA\tIOWA\t\t\t\t\t\t\t52144\t00000000\t\t\t9000\tUNITED STATES\t52144\t2017\tANNUAL\t00\t00\tYEAR\t\t2018-02-01 00:00:00\t160\t\u0000\n",
      "SURVEY\tCROPS\tFIELD CROPS\tSOYBEANS\tALL CLASSES\tALL PRODUCTION PRACTICES\tALL UTILIZATION PRACTICES\tYIELD\tBU / ACRE\tSOYBEANS - YIELD, MEASURED IN BU / ACRE\tTOTAL\tNOT SPECIFIED\tCOUNTY\t18\t18\tIN\tINDIANA\t80\tSOUTH CENTRAL\t123\t123\tPERRY\t\t\t00000000\t\t\t9000\tUNITED STATES\tINDIANA, SOUTH CENTRAL, PERRY\t2014\tANNUAL\t00\t00\tYEAR\t\t2016-02-18 15:04:50\t50.6\t\u0000\n",
      "CENSUS\tCROPS\tFIELD CROPS\tCORN\tALL CLASSES\tALL PRODUCTION PRACTICES\tGRAIN\tAREA HARVESTED\tOPERATIONS\tCORN, GRAIN - OPERATIONS WITH AREA HARVESTED\tAREA HARVESTED\tAREA HARVESTED: (100 TO 249 ACRES)\tSTATE\t18\t18\tIN\tINDIANA\t\t\t\t\t\t\t\t00000000\t\t\t9000\tUNITED STATES\tINDIANA\t2002\tANNUAL\t00\t00\tYEAR\t\t2012-01-01 00:00:00\t5,328\t\u0000\n",
      "SURVEY\tCROPS\tFIELD CROPS\tWHEAT\tWINTER\tALL PRODUCTION PRACTICES\tALL UTILIZATION PRACTICES\tPRODUCTION\tBU\tWHEAT, WINTER - PRODUCTION, MEASURED IN BU\tTOTAL\tNOT SPECIFIED\tCOUNTY\t45\t45\tSC\tSOUTH CAROLINA\t20\tNORTH CENTRAL\t091\t091\tYORK\t\t\t00000000\t\t\t9000\tUNITED STATES\tSOUTH CAROLINA, NORTH CENTRAL, YORK\t2015\tANNUAL\t00\t00\tYEAR\t\t2015-12-10 16:08:04\t57,800\t\u0000\n",
      "SURVEY\tCROPS\tFIELD CROPS\tSOYBEANS\tALL CLASSES\tALL PRODUCTION PRACTICES\tALL UTILIZATION PRACTICES\tCONDITION, PREVIOUS YEAR\tPCT VERY POOR\tSOYBEANS - CONDITION, PREVIOUS YEAR, MEASURED IN PCT VERY POOR\tTOTAL\tNOT SPECIFIED\tSTATE\t22\t22\tLA\tLOUISIANA\t\t\t\t\t\t\t\t00000000\t\t\t9000\tUNITED STATES\tLOUISIANA\t2018\tWEEKLY\t22\t22\tWEEK #22\t2018-06-03\t2018-06-04 16:00:02\t1\t\u0000\n",
      "SURVEY\tCROPS\tFIELD CROPS\tWHEAT\tALL CLASSES\tNON-IRRIGATED\tALL UTILIZATION PRACTICES\tPRODUCTION\tBU\tWHEAT, NON-IRRIGATED - PRODUCTION, MEASURED IN BU\tTOTAL\tNOT SPECIFIED\tCOUNTY\t48\t48\tTX\tTEXAS\t40\tBLACKLANDS\t309\t309\tMCLENNAN\t\t\t00000000\t\t\t9000\tUNITED STATES\tTEXAS, BLACKLANDS, MCLENNAN\t1974\tANNUAL\t00\t00\tYEAR\t\t2012-01-01 00:00:00\t329,000\t\u0000\n",
      "SURVEY\tCROPS\tFIELD CROPS\tWHEAT\tWINTER\tALL PRODUCTION PRACTICES\tALL UTILIZATION PRACTICES\tAREA HARVESTED\tACRES\tWHEAT, WINTER - ACRES HARVESTED\tTOTAL\tNOT SPECIFIED\tCOUNTY\t17\t17\tIL\tILLINOIS\t90\tSOUTHEAST\t193\t193\tWHITE\t\t\t00000000\t\t\t9000\tUNITED STATES\tILLINOIS, SOUTHEAST, WHITE\t1926\tANNUAL\t00\t00\tYEAR\t\t2012-01-01 00:00:00\t33,800\t\u0000\n",
      "CENSUS\tCROPS\tFIELD CROPS\tHAY & HAYLAGE\tALL CLASSES\tALL PRODUCTION PRACTICES\tALL UTILIZATION PRACTICES\tAREA HARVESTED\tOPERATIONS\tHAY & HAYLAGE - OPERATIONS WITH AREA HARVESTED\tFARM SALES AND AREA HARVESTED\tFARM SALES: (5,000 TO 9,999 $) AND AREA HARVESTED: (25.0 TO 99.9 ACRES)\tSTATE\t02\t02\tAK\tALASKA\t\t\t\t\t\t\t\t00000000\t\t\t9000\tUNITED STATES\tALASKA\t2012\tANNUAL\t00\t00\tYEAR\t\t2012-12-31 00:00:00\t25\t(L)\n",
      "SURVEY\tCROPS\tFIELD CROPS\tSUGARCANE\tALL CLASSES\tALL PRODUCTION PRACTICES\tSUGAR\tPRODUCTION\tTONS\tSUGARCANE, SUGAR - PRODUCTION, MEASURED IN TONS\tTOTAL\tNOT SPECIFIED\tCOUNTY\t48\t48\tTX\tTEXAS\t97\tLOWER VALLEY\t489\t489\tWILLACY\t\t\t00000000\t\t\t9000\tUNITED STATES\tTEXAS, LOWER VALLEY, WILLACY\t1991\tANNUAL\t00\t00\tYEAR\t\t2012-01-01 00:00:00\t95,100\t\u0000\n",
      "CENSUS\tCROPS\tVEGETABLES\tBEANS\tSNAP\tALL PRODUCTION PRACTICES\tALL UTILIZATION PRACTICES\tAREA HARVESTED\tACRES\tBEANS, SNAP - ACRES HARVESTED\tTOTAL\tNOT SPECIFIED\tCOUNTY\t36\t36\tNY\tNEW YORK\t60\tEASTERN\t083\t083\tRENSSELAER\t\t\t00000000\t\t\t9000\tUNITED STATES\tNEW YORK, EASTERN, RENSSELAER\t2007\tANNUAL\t00\t00\tYEAR\t\t2012-01-01 00:00:00\t13\t\u0000\n",
      "CENSUS\tCROPS\tFIELD CROPS\tSORGHUM\tALL CLASSES\tALL PRODUCTION PRACTICES\tGRAIN\tAREA HARVESTED\tOPERATIONS\tSORGHUM, GRAIN - OPERATIONS WITH AREA HARVESTED\tAREA HARVESTED\tAREA HARVESTED: (25.0 TO 99.9 ACRES)\tCOUNTY\t20\t20\tKS\tKANSAS\t80\tEAST CENTRAL\t003\t003\tANDERSON\t\t\t00000000\t\t\t9000\tUNITED STATES\tKANSAS, EAST CENTRAL, ANDERSON\t2002\tANNUAL\t00\t00\tYEAR\t\t2012-01-01 00:00:00\t51\t\u0000\n",
      "SURVEY\tCROPS\tFIELD CROPS\tCORN\tALL CLASSES\tALL PRODUCTION PRACTICES\tGRAIN\tAREA HARVESTED\tACRES\tCORN, GRAIN - ACRES HARVESTED\tTOTAL\tNOT SPECIFIED\tCOUNTY\t13\t13\tGA\tGEORGIA\t40\tWEST CENTRAL\t045\t045\tCARROLL\t\t\t00000000\t\t\t9000\tUNITED STATES\tGEORGIA, WEST CENTRAL, CARROLL\t1965\tANNUAL\t00\t00\tYEAR\t\t2012-01-01 00:00:00\t5,270\t\u0000\n",
      "SURVEY\tCROPS\tFIELD CROPS\tWHEAT\tALL CLASSES\tIRRIGATED\tALL UTILIZATION PRACTICES\tPRODUCTION\tBU\tWHEAT, IRRIGATED - PRODUCTION, MEASURED IN BU\tTOTAL\tNOT SPECIFIED\tCOUNTY\t48\t48\tTX\tTEXAS\t12\tSOUTHERN HIGH PLAINS\t501\t501\tYOAKUM\t\t\t00000000\t\t\t9000\tUNITED STATES\tTEXAS, SOUTHERN HIGH PLAINS, YOAKUM\t1995\tANNUAL\t00\t00\tYEAR\t\t2012-01-01 00:00:00\t20,000\t\u0000\n",
      "CENSUS\tCROPS\tHORTICULTURE\tBEDDING PLANTS, ANNUAL\tFLOWERING & FOLIAR, VERBENA\tALL PRODUCTION PRACTICES\tWHOLESALE, POTS, GE 5 INCHES\tSALES\tPOTS\tBEDDING PLANTS, ANNUAL, FLOWERING & FOLIAR, VER\n"
     ]
    }
   ],
   "source": [
    "# Open the file named 'qs.crops_20231201.txt' in read mode ('r')\n",
    "with open('qs.crops_20231201.txt', 'r') as file:\n",
    "    # Read the first 10000 characters from the file and store them in partial_contents\n",
    "    partial_contents = file.read(10000)\n",
    "\n",
    "# Print or process the partial contents obtained from the file\n",
    "print(partial_contents)"
   ]
  },
  {
   "cell_type": "code",
   "execution_count": null,
   "id": "5cfe7096",
   "metadata": {},
   "outputs": [],
   "source": [
    "# Read the tab-delimited file into a DataFrame\n",
    "data = pd.read_csv(r\"C:\\Users\\shwet\\Downloads\\Data512 - ProjectPart2\\crop_source_data\\crop_source_data\\qs.crops_20231201.txt\", delimiter='\\t')  # Use '\\t' for tab-separated files"
   ]
  },
  {
   "cell_type": "code",
   "execution_count": null,
   "id": "e455459e",
   "metadata": {},
   "outputs": [],
   "source": [
    "# Display the contents of the DataFrame\n",
    "data.head()"
   ]
  },
  {
   "cell_type": "code",
   "execution_count": null,
   "id": "cd64330c",
   "metadata": {
    "scrolled": true
   },
   "outputs": [],
   "source": [
    "# listing the columns of the dataframe\n",
    "data.columns"
   ]
  },
  {
   "cell_type": "code",
   "execution_count": null,
   "id": "9645f58d",
   "metadata": {},
   "outputs": [],
   "source": [
    "# saving the data to a csv to retain a copy\n",
    "data.to_csv('crop_data_US.csv')"
   ]
  },
  {
   "cell_type": "markdown",
   "id": "93a9b211",
   "metadata": {},
   "source": [
    "## Data Filtering\n",
    "\n",
    "The data that referenced above consists data for the entire country of United States. However, the focus of our investigation is Bismarck, North Dakota. So we stare slowly filtering the data by applying more and more granular funnels at each step. The basic flow of the filtering process is as mentioned below:\n",
    "1. Filter the data for the state of North Dakota\n",
    "2. Store the Crop and agriculture information to a csv file to support further processing."
   ]
  },
  {
   "cell_type": "code",
   "execution_count": null,
   "id": "64ca3d31",
   "metadata": {},
   "outputs": [],
   "source": [
    "# shape and size of the data\n",
    "print(data.shape[0], len(data.columns))"
   ]
  },
  {
   "cell_type": "code",
   "execution_count": null,
   "id": "130a2781",
   "metadata": {},
   "outputs": [],
   "source": [
    "# checking the values for states for subsetting\n",
    "data.STATE_NAME.unique()"
   ]
  },
  {
   "cell_type": "code",
   "execution_count": null,
   "id": "b95624c7",
   "metadata": {},
   "outputs": [],
   "source": [
    "# subsetting the data for North Dakota \n",
    "subset_data = data[data['STATE_NAME']== 'NORTH DAKOTA']"
   ]
  },
  {
   "cell_type": "code",
   "execution_count": null,
   "id": "d7ca5dfb",
   "metadata": {},
   "outputs": [],
   "source": [
    "# shape and size of the data\n",
    "print(subset_data.shape[0], len(subset_data.columns))"
   ]
  },
  {
   "cell_type": "code",
   "execution_count": null,
   "id": "954d6a65",
   "metadata": {},
   "outputs": [],
   "source": [
    "# checking the values for states after subsetting\n",
    "subset_data.STATE_NAME.unique()"
   ]
  },
  {
   "cell_type": "code",
   "execution_count": null,
   "id": "c6c33925",
   "metadata": {},
   "outputs": [],
   "source": [
    "# saving the data for intermediate use\n",
    "subset_data.to_csv('crop_data_NorthDakota.csv')"
   ]
  },
  {
   "cell_type": "code",
   "execution_count": null,
   "id": "8a031ca5",
   "metadata": {},
   "outputs": [],
   "source": [
    "# sample\n",
    "subset_data.head()"
   ]
  }
 ],
 "metadata": {
  "kernelspec": {
   "display_name": "Python 3 (ipykernel)",
   "language": "python",
   "name": "python3"
  },
  "language_info": {
   "codemirror_mode": {
    "name": "ipython",
    "version": 3
   },
   "file_extension": ".py",
   "mimetype": "text/x-python",
   "name": "python",
   "nbconvert_exporter": "python",
   "pygments_lexer": "ipython3",
   "version": "3.11.5"
  }
 },
 "nbformat": 4,
 "nbformat_minor": 5
}
